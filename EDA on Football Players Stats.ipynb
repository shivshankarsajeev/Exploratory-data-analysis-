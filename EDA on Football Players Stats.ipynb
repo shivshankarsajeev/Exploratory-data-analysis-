{
 "cells": [
  {
   "cell_type": "markdown",
   "id": "ea38021f-beb6-4b32-a880-bc37c751738e",
   "metadata": {},
   "source": [
    "# **EDA on Football Players Stats For the year 2024 - 2025**"
   ]
  },
  {
   "cell_type": "markdown",
   "id": "106196fc-6c86-4253-95b9-077242137de5",
   "metadata": {},
   "source": [
    "## About the dataset \n",
    "\n",
    "**Dataset link** :  https://www.kaggle.com/datasets/hubertsidorowicz/football-players-stats-2024-2025/data?select=players_data-2024_2025.csv\n",
    "\n",
    "    Columns\n",
    "    🔹Basic Player Information:\n",
    "    Player– Player's name\n",
    "    Nation – Player's nationality\n",
    "    Pos – Position (FW, MF, DF, GK)\n",
    "    Squad – Club name\n",
    "    Comp – League\n",
    "    Age – Age of the player\n",
    "    Born – Year of birth\n",
    "    \n",
    "    📊Playing Time & Appearances**\n",
    "    MP – Matches played\n",
    "    Starts – Games started"
   ]
  },
  {
   "cell_type": "code",
   "execution_count": 1,
   "id": "100eb3e3-84bb-4edd-bcab-8c8b92af938b",
   "metadata": {},
   "outputs": [],
   "source": [
    "import pandas as pd \n",
    "import matplotlib.pyplot as plt \n",
    "import seaborn as sns "
   ]
  },
  {
   "cell_type": "code",
   "execution_count": 2,
   "id": "d87926e0-5a73-45cf-9435-29abf6f52aea",
   "metadata": {},
   "outputs": [
    {
     "data": {
      "text/html": [
       "<div>\n",
       "<style scoped>\n",
       "    .dataframe tbody tr th:only-of-type {\n",
       "        vertical-align: middle;\n",
       "    }\n",
       "\n",
       "    .dataframe tbody tr th {\n",
       "        vertical-align: top;\n",
       "    }\n",
       "\n",
       "    .dataframe thead th {\n",
       "        text-align: right;\n",
       "    }\n",
       "</style>\n",
       "<table border=\"1\" class=\"dataframe\">\n",
       "  <thead>\n",
       "    <tr style=\"text-align: right;\">\n",
       "      <th></th>\n",
       "      <th>Rk</th>\n",
       "      <th>Player</th>\n",
       "      <th>Nation</th>\n",
       "      <th>Pos</th>\n",
       "      <th>Squad</th>\n",
       "      <th>Comp</th>\n",
       "      <th>Age</th>\n",
       "      <th>Born</th>\n",
       "      <th>MP</th>\n",
       "      <th>Starts</th>\n",
       "      <th>...</th>\n",
       "      <th>Att (GK)</th>\n",
       "      <th>Thr</th>\n",
       "      <th>Launch%</th>\n",
       "      <th>AvgLen</th>\n",
       "      <th>Opp</th>\n",
       "      <th>Stp</th>\n",
       "      <th>Stp%</th>\n",
       "      <th>#OPA</th>\n",
       "      <th>#OPA/90</th>\n",
       "      <th>AvgDist</th>\n",
       "    </tr>\n",
       "  </thead>\n",
       "  <tbody>\n",
       "    <tr>\n",
       "      <th>0</th>\n",
       "      <td>1</td>\n",
       "      <td>Max Aarons</td>\n",
       "      <td>eng ENG</td>\n",
       "      <td>DF</td>\n",
       "      <td>Bournemouth</td>\n",
       "      <td>eng Premier League</td>\n",
       "      <td>25.0</td>\n",
       "      <td>2000.0</td>\n",
       "      <td>3</td>\n",
       "      <td>1</td>\n",
       "      <td>...</td>\n",
       "      <td>NaN</td>\n",
       "      <td>NaN</td>\n",
       "      <td>NaN</td>\n",
       "      <td>NaN</td>\n",
       "      <td>NaN</td>\n",
       "      <td>NaN</td>\n",
       "      <td>NaN</td>\n",
       "      <td>NaN</td>\n",
       "      <td>NaN</td>\n",
       "      <td>NaN</td>\n",
       "    </tr>\n",
       "    <tr>\n",
       "      <th>1</th>\n",
       "      <td>2</td>\n",
       "      <td>Max Aarons</td>\n",
       "      <td>eng ENG</td>\n",
       "      <td>MF</td>\n",
       "      <td>Valencia</td>\n",
       "      <td>es La Liga</td>\n",
       "      <td>25.0</td>\n",
       "      <td>2000.0</td>\n",
       "      <td>1</td>\n",
       "      <td>0</td>\n",
       "      <td>...</td>\n",
       "      <td>NaN</td>\n",
       "      <td>NaN</td>\n",
       "      <td>NaN</td>\n",
       "      <td>NaN</td>\n",
       "      <td>NaN</td>\n",
       "      <td>NaN</td>\n",
       "      <td>NaN</td>\n",
       "      <td>NaN</td>\n",
       "      <td>NaN</td>\n",
       "      <td>NaN</td>\n",
       "    </tr>\n",
       "    <tr>\n",
       "      <th>2</th>\n",
       "      <td>3</td>\n",
       "      <td>Rodrigo Abajas</td>\n",
       "      <td>es ESP</td>\n",
       "      <td>DF</td>\n",
       "      <td>Valencia</td>\n",
       "      <td>es La Liga</td>\n",
       "      <td>21.0</td>\n",
       "      <td>2003.0</td>\n",
       "      <td>1</td>\n",
       "      <td>1</td>\n",
       "      <td>...</td>\n",
       "      <td>NaN</td>\n",
       "      <td>NaN</td>\n",
       "      <td>NaN</td>\n",
       "      <td>NaN</td>\n",
       "      <td>NaN</td>\n",
       "      <td>NaN</td>\n",
       "      <td>NaN</td>\n",
       "      <td>NaN</td>\n",
       "      <td>NaN</td>\n",
       "      <td>NaN</td>\n",
       "    </tr>\n",
       "    <tr>\n",
       "      <th>3</th>\n",
       "      <td>4</td>\n",
       "      <td>James Abankwah</td>\n",
       "      <td>ie IRL</td>\n",
       "      <td>DF,MF</td>\n",
       "      <td>Udinese</td>\n",
       "      <td>it Serie A</td>\n",
       "      <td>21.0</td>\n",
       "      <td>2004.0</td>\n",
       "      <td>6</td>\n",
       "      <td>0</td>\n",
       "      <td>...</td>\n",
       "      <td>NaN</td>\n",
       "      <td>NaN</td>\n",
       "      <td>NaN</td>\n",
       "      <td>NaN</td>\n",
       "      <td>NaN</td>\n",
       "      <td>NaN</td>\n",
       "      <td>NaN</td>\n",
       "      <td>NaN</td>\n",
       "      <td>NaN</td>\n",
       "      <td>NaN</td>\n",
       "    </tr>\n",
       "    <tr>\n",
       "      <th>4</th>\n",
       "      <td>5</td>\n",
       "      <td>Keyliane Abdallah</td>\n",
       "      <td>fr FRA</td>\n",
       "      <td>FW</td>\n",
       "      <td>Marseille</td>\n",
       "      <td>fr Ligue 1</td>\n",
       "      <td>18.0</td>\n",
       "      <td>2006.0</td>\n",
       "      <td>1</td>\n",
       "      <td>0</td>\n",
       "      <td>...</td>\n",
       "      <td>NaN</td>\n",
       "      <td>NaN</td>\n",
       "      <td>NaN</td>\n",
       "      <td>NaN</td>\n",
       "      <td>NaN</td>\n",
       "      <td>NaN</td>\n",
       "      <td>NaN</td>\n",
       "      <td>NaN</td>\n",
       "      <td>NaN</td>\n",
       "      <td>NaN</td>\n",
       "    </tr>\n",
       "  </tbody>\n",
       "</table>\n",
       "<p>5 rows × 267 columns</p>\n",
       "</div>"
      ],
      "text/plain": [
       "   Rk             Player   Nation    Pos        Squad                Comp  \\\n",
       "0   1         Max Aarons  eng ENG     DF  Bournemouth  eng Premier League   \n",
       "1   2         Max Aarons  eng ENG     MF     Valencia          es La Liga   \n",
       "2   3     Rodrigo Abajas   es ESP     DF     Valencia          es La Liga   \n",
       "3   4     James Abankwah   ie IRL  DF,MF      Udinese          it Serie A   \n",
       "4   5  Keyliane Abdallah   fr FRA     FW    Marseille          fr Ligue 1   \n",
       "\n",
       "    Age    Born  MP  Starts  ...  Att (GK)  Thr  Launch%  AvgLen  Opp  Stp  \\\n",
       "0  25.0  2000.0   3       1  ...       NaN  NaN      NaN     NaN  NaN  NaN   \n",
       "1  25.0  2000.0   1       0  ...       NaN  NaN      NaN     NaN  NaN  NaN   \n",
       "2  21.0  2003.0   1       1  ...       NaN  NaN      NaN     NaN  NaN  NaN   \n",
       "3  21.0  2004.0   6       0  ...       NaN  NaN      NaN     NaN  NaN  NaN   \n",
       "4  18.0  2006.0   1       0  ...       NaN  NaN      NaN     NaN  NaN  NaN   \n",
       "\n",
       "   Stp%  #OPA  #OPA/90  AvgDist  \n",
       "0   NaN   NaN      NaN      NaN  \n",
       "1   NaN   NaN      NaN      NaN  \n",
       "2   NaN   NaN      NaN      NaN  \n",
       "3   NaN   NaN      NaN      NaN  \n",
       "4   NaN   NaN      NaN      NaN  \n",
       "\n",
       "[5 rows x 267 columns]"
      ]
     },
     "execution_count": 2,
     "metadata": {},
     "output_type": "execute_result"
    }
   ],
   "source": [
    "df = pd.read_csv('players_data-2024_2025.csv')\n",
    "df.head()"
   ]
  },
  {
   "cell_type": "markdown",
   "id": "bf91a4f3-a00d-4399-bf9c-052cf53c1acb",
   "metadata": {},
   "source": [
    "## Data Cleaning"
   ]
  },
  {
   "cell_type": "code",
   "execution_count": 3,
   "id": "2d703e62-e65a-41ef-b89a-4dda68e2c80d",
   "metadata": {},
   "outputs": [],
   "source": [
    "df_new = df[['Rk',\n",
    " 'Player',\n",
    " 'Nation',\n",
    " 'Pos',\n",
    " 'Squad',\n",
    " 'Comp',\n",
    " 'Age',\n",
    " 'Born',\n",
    " 'MP',\n",
    " 'Starts']]"
   ]
  },
  {
   "cell_type": "code",
   "execution_count": 4,
   "id": "3caa3619-de7a-41d3-b354-025a9972f31e",
   "metadata": {},
   "outputs": [
    {
     "data": {
      "text/plain": [
       "(2657, 10)"
      ]
     },
     "execution_count": 4,
     "metadata": {},
     "output_type": "execute_result"
    }
   ],
   "source": [
    "df_new.shape"
   ]
  },
  {
   "cell_type": "code",
   "execution_count": 5,
   "id": "03a7e05a-64db-48f6-8a77-c5dd94c096b7",
   "metadata": {},
   "outputs": [
    {
     "name": "stdout",
     "output_type": "stream",
     "text": [
      "<class 'pandas.core.frame.DataFrame'>\n",
      "RangeIndex: 2657 entries, 0 to 2656\n",
      "Data columns (total 10 columns):\n",
      " #   Column  Non-Null Count  Dtype  \n",
      "---  ------  --------------  -----  \n",
      " 0   Rk      2657 non-null   int64  \n",
      " 1   Player  2657 non-null   object \n",
      " 2   Nation  2654 non-null   object \n",
      " 3   Pos     2657 non-null   object \n",
      " 4   Squad   2657 non-null   object \n",
      " 5   Comp    2657 non-null   object \n",
      " 6   Age     2653 non-null   float64\n",
      " 7   Born    2653 non-null   float64\n",
      " 8   MP      2657 non-null   int64  \n",
      " 9   Starts  2657 non-null   int64  \n",
      "dtypes: float64(2), int64(3), object(5)\n",
      "memory usage: 207.7+ KB\n"
     ]
    }
   ],
   "source": [
    "df_new.info()"
   ]
  },
  {
   "cell_type": "code",
   "execution_count": 6,
   "id": "f8a5230c-e568-40d3-aef6-d0cdc4af77cc",
   "metadata": {},
   "outputs": [
    {
     "data": {
      "text/plain": [
       "Rk        0\n",
       "Player    0\n",
       "Nation    3\n",
       "Pos       0\n",
       "Squad     0\n",
       "Comp      0\n",
       "Age       4\n",
       "Born      4\n",
       "MP        0\n",
       "Starts    0\n",
       "dtype: int64"
      ]
     },
     "execution_count": 6,
     "metadata": {},
     "output_type": "execute_result"
    }
   ],
   "source": [
    "df_new.isnull().sum()"
   ]
  },
  {
   "cell_type": "code",
   "execution_count": 7,
   "id": "2e930886-92e1-4e92-a794-49470a144d53",
   "metadata": {},
   "outputs": [
    {
     "data": {
      "text/html": [
       "<div>\n",
       "<style scoped>\n",
       "    .dataframe tbody tr th:only-of-type {\n",
       "        vertical-align: middle;\n",
       "    }\n",
       "\n",
       "    .dataframe tbody tr th {\n",
       "        vertical-align: top;\n",
       "    }\n",
       "\n",
       "    .dataframe thead th {\n",
       "        text-align: right;\n",
       "    }\n",
       "</style>\n",
       "<table border=\"1\" class=\"dataframe\">\n",
       "  <thead>\n",
       "    <tr style=\"text-align: right;\">\n",
       "      <th></th>\n",
       "      <th>Rk</th>\n",
       "      <th>Player</th>\n",
       "      <th>Nation</th>\n",
       "      <th>Pos</th>\n",
       "      <th>Squad</th>\n",
       "      <th>Comp</th>\n",
       "      <th>Age</th>\n",
       "      <th>Born</th>\n",
       "      <th>MP</th>\n",
       "      <th>Starts</th>\n",
       "    </tr>\n",
       "  </thead>\n",
       "  <tbody>\n",
       "    <tr>\n",
       "      <th>257</th>\n",
       "      <td>258</td>\n",
       "      <td>Hannes Behrens</td>\n",
       "      <td>de GER</td>\n",
       "      <td>DF</td>\n",
       "      <td>Hoffenheim</td>\n",
       "      <td>de Bundesliga</td>\n",
       "      <td>NaN</td>\n",
       "      <td>NaN</td>\n",
       "      <td>1</td>\n",
       "      <td>0</td>\n",
       "    </tr>\n",
       "    <tr>\n",
       "      <th>614</th>\n",
       "      <td>615</td>\n",
       "      <td>Pape Daouda Diongue</td>\n",
       "      <td>sn SEN</td>\n",
       "      <td>MF,FW</td>\n",
       "      <td>Strasbourg</td>\n",
       "      <td>fr Ligue 1</td>\n",
       "      <td>NaN</td>\n",
       "      <td>NaN</td>\n",
       "      <td>7</td>\n",
       "      <td>1</td>\n",
       "    </tr>\n",
       "    <tr>\n",
       "      <th>1221</th>\n",
       "      <td>1222</td>\n",
       "      <td>Atakan Karazor</td>\n",
       "      <td>NaN</td>\n",
       "      <td>MF</td>\n",
       "      <td>Stuttgart</td>\n",
       "      <td>de Bundesliga</td>\n",
       "      <td>28.0</td>\n",
       "      <td>1996.0</td>\n",
       "      <td>19</td>\n",
       "      <td>18</td>\n",
       "    </tr>\n",
       "    <tr>\n",
       "      <th>1411</th>\n",
       "      <td>1412</td>\n",
       "      <td>Fer López</td>\n",
       "      <td>NaN</td>\n",
       "      <td>FW,MF</td>\n",
       "      <td>Celta Vigo</td>\n",
       "      <td>es La Liga</td>\n",
       "      <td>NaN</td>\n",
       "      <td>NaN</td>\n",
       "      <td>4</td>\n",
       "      <td>1</td>\n",
       "    </tr>\n",
       "    <tr>\n",
       "      <th>1644</th>\n",
       "      <td>1644</td>\n",
       "      <td>Max Moerstedt</td>\n",
       "      <td>de GER</td>\n",
       "      <td>FW</td>\n",
       "      <td>Hoffenheim</td>\n",
       "      <td>de Bundesliga</td>\n",
       "      <td>NaN</td>\n",
       "      <td>NaN</td>\n",
       "      <td>11</td>\n",
       "      <td>4</td>\n",
       "    </tr>\n",
       "    <tr>\n",
       "      <th>1782</th>\n",
       "      <td>1782</td>\n",
       "      <td>Plamedi Nsingi</td>\n",
       "      <td>NaN</td>\n",
       "      <td>MF</td>\n",
       "      <td>Nantes</td>\n",
       "      <td>fr Ligue 1</td>\n",
       "      <td>24.0</td>\n",
       "      <td>2000.0</td>\n",
       "      <td>1</td>\n",
       "      <td>0</td>\n",
       "    </tr>\n",
       "  </tbody>\n",
       "</table>\n",
       "</div>"
      ],
      "text/plain": [
       "        Rk               Player  Nation    Pos       Squad           Comp  \\\n",
       "257    258       Hannes Behrens  de GER     DF  Hoffenheim  de Bundesliga   \n",
       "614    615  Pape Daouda Diongue  sn SEN  MF,FW  Strasbourg     fr Ligue 1   \n",
       "1221  1222       Atakan Karazor     NaN     MF   Stuttgart  de Bundesliga   \n",
       "1411  1412            Fer López     NaN  FW,MF  Celta Vigo     es La Liga   \n",
       "1644  1644        Max Moerstedt  de GER     FW  Hoffenheim  de Bundesliga   \n",
       "1782  1782       Plamedi Nsingi     NaN     MF      Nantes     fr Ligue 1   \n",
       "\n",
       "       Age    Born  MP  Starts  \n",
       "257    NaN     NaN   1       0  \n",
       "614    NaN     NaN   7       1  \n",
       "1221  28.0  1996.0  19      18  \n",
       "1411   NaN     NaN   4       1  \n",
       "1644   NaN     NaN  11       4  \n",
       "1782  24.0  2000.0   1       0  "
      ]
     },
     "execution_count": 7,
     "metadata": {},
     "output_type": "execute_result"
    }
   ],
   "source": [
    "df_new[df_new.isnull().any(axis=1)]"
   ]
  },
  {
   "cell_type": "code",
   "execution_count": 8,
   "id": "9eff04b0-b2f6-4724-8b63-4703175cd4a4",
   "metadata": {},
   "outputs": [
    {
     "name": "stderr",
     "output_type": "stream",
     "text": [
      "C:\\Users\\shivs\\AppData\\Local\\Temp\\ipykernel_14104\\420984286.py:1: SettingWithCopyWarning: \n",
      "A value is trying to be set on a copy of a slice from a DataFrame\n",
      "\n",
      "See the caveats in the documentation: https://pandas.pydata.org/pandas-docs/stable/user_guide/indexing.html#returning-a-view-versus-a-copy\n",
      "  df_new.dropna(inplace=True)\n"
     ]
    }
   ],
   "source": [
    "df_new.dropna(inplace=True)"
   ]
  },
  {
   "cell_type": "code",
   "execution_count": 9,
   "id": "60602996-43b5-48cb-bdc5-c84c6ae49bdf",
   "metadata": {},
   "outputs": [
    {
     "data": {
      "text/plain": [
       "Rk        0\n",
       "Player    0\n",
       "Nation    0\n",
       "Pos       0\n",
       "Squad     0\n",
       "Comp      0\n",
       "Age       0\n",
       "Born      0\n",
       "MP        0\n",
       "Starts    0\n",
       "dtype: int64"
      ]
     },
     "execution_count": 9,
     "metadata": {},
     "output_type": "execute_result"
    }
   ],
   "source": [
    "df_new.isnull().sum()"
   ]
  },
  {
   "cell_type": "code",
   "execution_count": 10,
   "id": "5d8984a1-4b18-460f-afaa-a631e95503df",
   "metadata": {},
   "outputs": [],
   "source": [
    "data = df_new.copy()"
   ]
  },
  {
   "cell_type": "code",
   "execution_count": 11,
   "id": "b59bce02-a26b-43b2-8098-37c23f16ff15",
   "metadata": {},
   "outputs": [
    {
     "data": {
      "text/html": [
       "<div>\n",
       "<style scoped>\n",
       "    .dataframe tbody tr th:only-of-type {\n",
       "        vertical-align: middle;\n",
       "    }\n",
       "\n",
       "    .dataframe tbody tr th {\n",
       "        vertical-align: top;\n",
       "    }\n",
       "\n",
       "    .dataframe thead th {\n",
       "        text-align: right;\n",
       "    }\n",
       "</style>\n",
       "<table border=\"1\" class=\"dataframe\">\n",
       "  <thead>\n",
       "    <tr style=\"text-align: right;\">\n",
       "      <th></th>\n",
       "      <th>Rk</th>\n",
       "      <th>Player</th>\n",
       "      <th>Nation</th>\n",
       "      <th>Pos</th>\n",
       "      <th>Squad</th>\n",
       "      <th>Comp</th>\n",
       "      <th>Age</th>\n",
       "      <th>Born</th>\n",
       "      <th>MP</th>\n",
       "      <th>Starts</th>\n",
       "    </tr>\n",
       "  </thead>\n",
       "  <tbody>\n",
       "    <tr>\n",
       "      <th>0</th>\n",
       "      <td>1</td>\n",
       "      <td>Max Aarons</td>\n",
       "      <td>eng ENG</td>\n",
       "      <td>DF</td>\n",
       "      <td>Bournemouth</td>\n",
       "      <td>eng Premier League</td>\n",
       "      <td>25.0</td>\n",
       "      <td>2000.0</td>\n",
       "      <td>3</td>\n",
       "      <td>1</td>\n",
       "    </tr>\n",
       "    <tr>\n",
       "      <th>1</th>\n",
       "      <td>2</td>\n",
       "      <td>Max Aarons</td>\n",
       "      <td>eng ENG</td>\n",
       "      <td>MF</td>\n",
       "      <td>Valencia</td>\n",
       "      <td>es La Liga</td>\n",
       "      <td>25.0</td>\n",
       "      <td>2000.0</td>\n",
       "      <td>1</td>\n",
       "      <td>0</td>\n",
       "    </tr>\n",
       "    <tr>\n",
       "      <th>2</th>\n",
       "      <td>3</td>\n",
       "      <td>Rodrigo Abajas</td>\n",
       "      <td>es ESP</td>\n",
       "      <td>DF</td>\n",
       "      <td>Valencia</td>\n",
       "      <td>es La Liga</td>\n",
       "      <td>21.0</td>\n",
       "      <td>2003.0</td>\n",
       "      <td>1</td>\n",
       "      <td>1</td>\n",
       "    </tr>\n",
       "    <tr>\n",
       "      <th>3</th>\n",
       "      <td>4</td>\n",
       "      <td>James Abankwah</td>\n",
       "      <td>ie IRL</td>\n",
       "      <td>DF,MF</td>\n",
       "      <td>Udinese</td>\n",
       "      <td>it Serie A</td>\n",
       "      <td>21.0</td>\n",
       "      <td>2004.0</td>\n",
       "      <td>6</td>\n",
       "      <td>0</td>\n",
       "    </tr>\n",
       "    <tr>\n",
       "      <th>4</th>\n",
       "      <td>5</td>\n",
       "      <td>Keyliane Abdallah</td>\n",
       "      <td>fr FRA</td>\n",
       "      <td>FW</td>\n",
       "      <td>Marseille</td>\n",
       "      <td>fr Ligue 1</td>\n",
       "      <td>18.0</td>\n",
       "      <td>2006.0</td>\n",
       "      <td>1</td>\n",
       "      <td>0</td>\n",
       "    </tr>\n",
       "  </tbody>\n",
       "</table>\n",
       "</div>"
      ],
      "text/plain": [
       "   Rk             Player   Nation    Pos        Squad                Comp  \\\n",
       "0   1         Max Aarons  eng ENG     DF  Bournemouth  eng Premier League   \n",
       "1   2         Max Aarons  eng ENG     MF     Valencia          es La Liga   \n",
       "2   3     Rodrigo Abajas   es ESP     DF     Valencia          es La Liga   \n",
       "3   4     James Abankwah   ie IRL  DF,MF      Udinese          it Serie A   \n",
       "4   5  Keyliane Abdallah   fr FRA     FW    Marseille          fr Ligue 1   \n",
       "\n",
       "    Age    Born  MP  Starts  \n",
       "0  25.0  2000.0   3       1  \n",
       "1  25.0  2000.0   1       0  \n",
       "2  21.0  2003.0   1       1  \n",
       "3  21.0  2004.0   6       0  \n",
       "4  18.0  2006.0   1       0  "
      ]
     },
     "execution_count": 11,
     "metadata": {},
     "output_type": "execute_result"
    }
   ],
   "source": [
    "data.head()"
   ]
  },
  {
   "cell_type": "code",
   "execution_count": 12,
   "id": "82c8c308-4005-4b69-a587-d19a681e632b",
   "metadata": {},
   "outputs": [
    {
     "name": "stdout",
     "output_type": "stream",
     "text": [
      "<class 'pandas.core.frame.DataFrame'>\n",
      "Index: 2651 entries, 0 to 2656\n",
      "Data columns (total 10 columns):\n",
      " #   Column  Non-Null Count  Dtype  \n",
      "---  ------  --------------  -----  \n",
      " 0   Rk      2651 non-null   int64  \n",
      " 1   Player  2651 non-null   object \n",
      " 2   Nation  2651 non-null   object \n",
      " 3   Pos     2651 non-null   object \n",
      " 4   Squad   2651 non-null   object \n",
      " 5   Comp    2651 non-null   object \n",
      " 6   Age     2651 non-null   float64\n",
      " 7   Born    2651 non-null   float64\n",
      " 8   MP      2651 non-null   int64  \n",
      " 9   Starts  2651 non-null   int64  \n",
      "dtypes: float64(2), int64(3), object(5)\n",
      "memory usage: 227.8+ KB\n"
     ]
    }
   ],
   "source": [
    "data.info()"
   ]
  },
  {
   "cell_type": "code",
   "execution_count": 13,
   "id": "3588c9c5-6e37-4569-bf32-47a2a5c146a4",
   "metadata": {},
   "outputs": [],
   "source": [
    "data[['Age','Born']] = data[['Age','Born']].astype('int')"
   ]
  },
  {
   "cell_type": "code",
   "execution_count": 14,
   "id": "5fa2ac22-37c9-43ba-ab52-56dd21ce04a3",
   "metadata": {},
   "outputs": [
    {
     "data": {
      "text/html": [
       "<div>\n",
       "<style scoped>\n",
       "    .dataframe tbody tr th:only-of-type {\n",
       "        vertical-align: middle;\n",
       "    }\n",
       "\n",
       "    .dataframe tbody tr th {\n",
       "        vertical-align: top;\n",
       "    }\n",
       "\n",
       "    .dataframe thead th {\n",
       "        text-align: right;\n",
       "    }\n",
       "</style>\n",
       "<table border=\"1\" class=\"dataframe\">\n",
       "  <thead>\n",
       "    <tr style=\"text-align: right;\">\n",
       "      <th></th>\n",
       "      <th>Rk</th>\n",
       "      <th>Player</th>\n",
       "      <th>Nation</th>\n",
       "      <th>Pos</th>\n",
       "      <th>Squad</th>\n",
       "      <th>Comp</th>\n",
       "      <th>Age</th>\n",
       "      <th>Born</th>\n",
       "      <th>MP</th>\n",
       "      <th>Starts</th>\n",
       "    </tr>\n",
       "  </thead>\n",
       "  <tbody>\n",
       "    <tr>\n",
       "      <th>0</th>\n",
       "      <td>1</td>\n",
       "      <td>Max Aarons</td>\n",
       "      <td>eng ENG</td>\n",
       "      <td>DF</td>\n",
       "      <td>Bournemouth</td>\n",
       "      <td>eng Premier League</td>\n",
       "      <td>25</td>\n",
       "      <td>2000</td>\n",
       "      <td>3</td>\n",
       "      <td>1</td>\n",
       "    </tr>\n",
       "    <tr>\n",
       "      <th>1</th>\n",
       "      <td>2</td>\n",
       "      <td>Max Aarons</td>\n",
       "      <td>eng ENG</td>\n",
       "      <td>MF</td>\n",
       "      <td>Valencia</td>\n",
       "      <td>es La Liga</td>\n",
       "      <td>25</td>\n",
       "      <td>2000</td>\n",
       "      <td>1</td>\n",
       "      <td>0</td>\n",
       "    </tr>\n",
       "    <tr>\n",
       "      <th>2</th>\n",
       "      <td>3</td>\n",
       "      <td>Rodrigo Abajas</td>\n",
       "      <td>es ESP</td>\n",
       "      <td>DF</td>\n",
       "      <td>Valencia</td>\n",
       "      <td>es La Liga</td>\n",
       "      <td>21</td>\n",
       "      <td>2003</td>\n",
       "      <td>1</td>\n",
       "      <td>1</td>\n",
       "    </tr>\n",
       "    <tr>\n",
       "      <th>3</th>\n",
       "      <td>4</td>\n",
       "      <td>James Abankwah</td>\n",
       "      <td>ie IRL</td>\n",
       "      <td>DF,MF</td>\n",
       "      <td>Udinese</td>\n",
       "      <td>it Serie A</td>\n",
       "      <td>21</td>\n",
       "      <td>2004</td>\n",
       "      <td>6</td>\n",
       "      <td>0</td>\n",
       "    </tr>\n",
       "    <tr>\n",
       "      <th>4</th>\n",
       "      <td>5</td>\n",
       "      <td>Keyliane Abdallah</td>\n",
       "      <td>fr FRA</td>\n",
       "      <td>FW</td>\n",
       "      <td>Marseille</td>\n",
       "      <td>fr Ligue 1</td>\n",
       "      <td>18</td>\n",
       "      <td>2006</td>\n",
       "      <td>1</td>\n",
       "      <td>0</td>\n",
       "    </tr>\n",
       "    <tr>\n",
       "      <th>5</th>\n",
       "      <td>6</td>\n",
       "      <td>Yunis Abdelhamid</td>\n",
       "      <td>ma MAR</td>\n",
       "      <td>DF</td>\n",
       "      <td>Saint-Étienne</td>\n",
       "      <td>fr Ligue 1</td>\n",
       "      <td>37</td>\n",
       "      <td>1987</td>\n",
       "      <td>12</td>\n",
       "      <td>11</td>\n",
       "    </tr>\n",
       "    <tr>\n",
       "      <th>6</th>\n",
       "      <td>7</td>\n",
       "      <td>Himad Abdelli</td>\n",
       "      <td>dz ALG</td>\n",
       "      <td>MF,FW</td>\n",
       "      <td>Angers</td>\n",
       "      <td>fr Ligue 1</td>\n",
       "      <td>25</td>\n",
       "      <td>1999</td>\n",
       "      <td>21</td>\n",
       "      <td>21</td>\n",
       "    </tr>\n",
       "    <tr>\n",
       "      <th>7</th>\n",
       "      <td>8</td>\n",
       "      <td>Mohamed Abdelmoneim</td>\n",
       "      <td>eg EGY</td>\n",
       "      <td>DF</td>\n",
       "      <td>Nice</td>\n",
       "      <td>fr Ligue 1</td>\n",
       "      <td>26</td>\n",
       "      <td>1999</td>\n",
       "      <td>9</td>\n",
       "      <td>7</td>\n",
       "    </tr>\n",
       "    <tr>\n",
       "      <th>8</th>\n",
       "      <td>9</td>\n",
       "      <td>Ali Abdi</td>\n",
       "      <td>tn TUN</td>\n",
       "      <td>DF,MF</td>\n",
       "      <td>Nice</td>\n",
       "      <td>fr Ligue 1</td>\n",
       "      <td>31</td>\n",
       "      <td>1993</td>\n",
       "      <td>13</td>\n",
       "      <td>9</td>\n",
       "    </tr>\n",
       "    <tr>\n",
       "      <th>9</th>\n",
       "      <td>10</td>\n",
       "      <td>Saud Abdulhamid</td>\n",
       "      <td>sa KSA</td>\n",
       "      <td>DF</td>\n",
       "      <td>Roma</td>\n",
       "      <td>it Serie A</td>\n",
       "      <td>25</td>\n",
       "      <td>1999</td>\n",
       "      <td>3</td>\n",
       "      <td>1</td>\n",
       "    </tr>\n",
       "  </tbody>\n",
       "</table>\n",
       "</div>"
      ],
      "text/plain": [
       "   Rk               Player   Nation    Pos          Squad                Comp  \\\n",
       "0   1           Max Aarons  eng ENG     DF    Bournemouth  eng Premier League   \n",
       "1   2           Max Aarons  eng ENG     MF       Valencia          es La Liga   \n",
       "2   3       Rodrigo Abajas   es ESP     DF       Valencia          es La Liga   \n",
       "3   4       James Abankwah   ie IRL  DF,MF        Udinese          it Serie A   \n",
       "4   5    Keyliane Abdallah   fr FRA     FW      Marseille          fr Ligue 1   \n",
       "5   6     Yunis Abdelhamid   ma MAR     DF  Saint-Étienne          fr Ligue 1   \n",
       "6   7        Himad Abdelli   dz ALG  MF,FW         Angers          fr Ligue 1   \n",
       "7   8  Mohamed Abdelmoneim   eg EGY     DF           Nice          fr Ligue 1   \n",
       "8   9             Ali Abdi   tn TUN  DF,MF           Nice          fr Ligue 1   \n",
       "9  10      Saud Abdulhamid   sa KSA     DF           Roma          it Serie A   \n",
       "\n",
       "   Age  Born  MP  Starts  \n",
       "0   25  2000   3       1  \n",
       "1   25  2000   1       0  \n",
       "2   21  2003   1       1  \n",
       "3   21  2004   6       0  \n",
       "4   18  2006   1       0  \n",
       "5   37  1987  12      11  \n",
       "6   25  1999  21      21  \n",
       "7   26  1999   9       7  \n",
       "8   31  1993  13       9  \n",
       "9   25  1999   3       1  "
      ]
     },
     "execution_count": 14,
     "metadata": {},
     "output_type": "execute_result"
    }
   ],
   "source": [
    "data.head(10)"
   ]
  },
  {
   "cell_type": "code",
   "execution_count": 15,
   "id": "fd826ecf-4c79-46bf-a51b-058088672ef9",
   "metadata": {},
   "outputs": [],
   "source": [
    "import re\n",
    "data['Nation']=data['Nation'].apply(lambda x: re.findall(r'[A-Z]+',x)[-1])\n",
    "data['Comp']=data['Comp'].apply(lambda x: \" \".join(re.findall(r'[a-zA-Z0-9]+',x)[1:]))"
   ]
  },
  {
   "cell_type": "code",
   "execution_count": 16,
   "id": "5c486ed3-e4e0-47e0-8ce4-10a03c03d302",
   "metadata": {},
   "outputs": [
    {
     "data": {
      "text/plain": [
       "Pos\n",
       "DF       808\n",
       "MF       586\n",
       "FW       348\n",
       "FW,MF    286\n",
       "MF,FW    222\n",
       "GK       180\n",
       "DF,MF     89\n",
       "MF,DF     63\n",
       "DF,FW     45\n",
       "FW,DF     24\n",
       "Name: count, dtype: int64"
      ]
     },
     "execution_count": 16,
     "metadata": {},
     "output_type": "execute_result"
    }
   ],
   "source": [
    "data['Pos'].value_counts()"
   ]
  },
  {
   "cell_type": "code",
   "execution_count": 17,
   "id": "6dfe7b8b-bcde-4682-a0af-775b017a9b85",
   "metadata": {},
   "outputs": [],
   "source": [
    "data['Pos'] = data['Pos'].apply(lambda x: \" \".join(sorted(x.split(','))))"
   ]
  },
  {
   "cell_type": "code",
   "execution_count": 19,
   "id": "256c2d27-987a-41e9-a4fd-b63150ecdb4b",
   "metadata": {},
   "outputs": [
    {
     "data": {
      "text/plain": [
       "Pos\n",
       "DF       808\n",
       "MF       586\n",
       "FW MF    508\n",
       "FW       348\n",
       "GK       180\n",
       "DF MF    152\n",
       "DF FW     69\n",
       "Name: count, dtype: int64"
      ]
     },
     "execution_count": 19,
     "metadata": {},
     "output_type": "execute_result"
    }
   ],
   "source": [
    "data['Pos'].value_counts()"
   ]
  },
  {
   "cell_type": "markdown",
   "id": "6f77de1d-6bb7-4f1b-9d59-326301f6700e",
   "metadata": {},
   "source": [
    "## EDA "
   ]
  },
  {
   "cell_type": "code",
   "execution_count": 20,
   "id": "147661ed-b74d-43c9-9506-3de90b855cf8",
   "metadata": {},
   "outputs": [
    {
     "data": {
      "text/html": [
       "<div>\n",
       "<style scoped>\n",
       "    .dataframe tbody tr th:only-of-type {\n",
       "        vertical-align: middle;\n",
       "    }\n",
       "\n",
       "    .dataframe tbody tr th {\n",
       "        vertical-align: top;\n",
       "    }\n",
       "\n",
       "    .dataframe thead th {\n",
       "        text-align: right;\n",
       "    }\n",
       "</style>\n",
       "<table border=\"1\" class=\"dataframe\">\n",
       "  <thead>\n",
       "    <tr style=\"text-align: right;\">\n",
       "      <th></th>\n",
       "      <th>Rk</th>\n",
       "      <th>Player</th>\n",
       "      <th>Nation</th>\n",
       "      <th>Pos</th>\n",
       "      <th>Squad</th>\n",
       "      <th>Comp</th>\n",
       "      <th>Age</th>\n",
       "      <th>Born</th>\n",
       "      <th>MP</th>\n",
       "      <th>Starts</th>\n",
       "    </tr>\n",
       "  </thead>\n",
       "  <tbody>\n",
       "    <tr>\n",
       "      <th>0</th>\n",
       "      <td>1</td>\n",
       "      <td>Max Aarons</td>\n",
       "      <td>ENG</td>\n",
       "      <td>DF</td>\n",
       "      <td>Bournemouth</td>\n",
       "      <td>Premier League</td>\n",
       "      <td>25</td>\n",
       "      <td>2000</td>\n",
       "      <td>3</td>\n",
       "      <td>1</td>\n",
       "    </tr>\n",
       "    <tr>\n",
       "      <th>1</th>\n",
       "      <td>2</td>\n",
       "      <td>Max Aarons</td>\n",
       "      <td>ENG</td>\n",
       "      <td>MF</td>\n",
       "      <td>Valencia</td>\n",
       "      <td>La Liga</td>\n",
       "      <td>25</td>\n",
       "      <td>2000</td>\n",
       "      <td>1</td>\n",
       "      <td>0</td>\n",
       "    </tr>\n",
       "    <tr>\n",
       "      <th>2</th>\n",
       "      <td>3</td>\n",
       "      <td>Rodrigo Abajas</td>\n",
       "      <td>ESP</td>\n",
       "      <td>DF</td>\n",
       "      <td>Valencia</td>\n",
       "      <td>La Liga</td>\n",
       "      <td>21</td>\n",
       "      <td>2003</td>\n",
       "      <td>1</td>\n",
       "      <td>1</td>\n",
       "    </tr>\n",
       "    <tr>\n",
       "      <th>3</th>\n",
       "      <td>4</td>\n",
       "      <td>James Abankwah</td>\n",
       "      <td>IRL</td>\n",
       "      <td>DF MF</td>\n",
       "      <td>Udinese</td>\n",
       "      <td>Serie A</td>\n",
       "      <td>21</td>\n",
       "      <td>2004</td>\n",
       "      <td>6</td>\n",
       "      <td>0</td>\n",
       "    </tr>\n",
       "    <tr>\n",
       "      <th>4</th>\n",
       "      <td>5</td>\n",
       "      <td>Keyliane Abdallah</td>\n",
       "      <td>FRA</td>\n",
       "      <td>FW</td>\n",
       "      <td>Marseille</td>\n",
       "      <td>Ligue 1</td>\n",
       "      <td>18</td>\n",
       "      <td>2006</td>\n",
       "      <td>1</td>\n",
       "      <td>0</td>\n",
       "    </tr>\n",
       "  </tbody>\n",
       "</table>\n",
       "</div>"
      ],
      "text/plain": [
       "   Rk             Player Nation    Pos        Squad            Comp  Age  \\\n",
       "0   1         Max Aarons    ENG     DF  Bournemouth  Premier League   25   \n",
       "1   2         Max Aarons    ENG     MF     Valencia         La Liga   25   \n",
       "2   3     Rodrigo Abajas    ESP     DF     Valencia         La Liga   21   \n",
       "3   4     James Abankwah    IRL  DF MF      Udinese         Serie A   21   \n",
       "4   5  Keyliane Abdallah    FRA     FW    Marseille         Ligue 1   18   \n",
       "\n",
       "   Born  MP  Starts  \n",
       "0  2000   3       1  \n",
       "1  2000   1       0  \n",
       "2  2003   1       1  \n",
       "3  2004   6       0  \n",
       "4  2006   1       0  "
      ]
     },
     "execution_count": 20,
     "metadata": {},
     "output_type": "execute_result"
    }
   ],
   "source": [
    "data.head()"
   ]
  },
  {
   "cell_type": "code",
   "execution_count": 60,
   "id": "7c057ca9-385a-4508-b444-a5953ba63d9b",
   "metadata": {},
   "outputs": [
    {
     "name": "stderr",
     "output_type": "stream",
     "text": [
      "C:\\Users\\shivs\\AppData\\Local\\Temp\\ipykernel_14104\\1485976008.py:15: UserWarning: set_ticklabels() should only be used with a fixed number of ticks, i.e. after set_ticks() or using a FixedLocator.\n",
      "  axes[2].set_xticklabels(axes[2].get_xticklabels(), rotation=45)  # Rotate labels for readability\n"
     ]
    },
    {
     "data": {
      "image/png": "[encoded data removed]",
      "text/plain": [
       "<Figure size 1800x600 with 3 Axes>"
      ]
     },
     "metadata": {},
     "output_type": "display_data"
    }
   ],
   "source": [
    "# Create a 1-row, 3-column subplot grid\n",
    "fig, axes = plt.subplots(1, 3, figsize=(18, 6))  \n",
    "\n",
    "# Players Age distribution\n",
    "sns.countplot(data=data, x='Age', ax=axes[0])\n",
    "axes[0].set_title(\"Players Age Distribution\")\n",
    "\n",
    "# Distribution of Matches Played\n",
    "sns.countplot(data=data, x='MP', ax=axes[1])\n",
    "axes[1].set_title(\"Distribution of Matches Played\")\n",
    "\n",
    "# Count of Positions\n",
    "sns.countplot(data=data, x='Pos', ax=axes[2])\n",
    "axes[2].set_title(\"Count of Positions\")\n",
    "axes[2].set_xticklabels(axes[2].get_xticklabels(), rotation=45)  # Rotate labels for readability\n",
    "\n",
    "\n",
    "plt.tight_layout()\n",
    "plt.show()"
   ]
  },
  {
   "cell_type": "markdown",
   "id": "9282a5b8-ae62-4864-9583-e4330c8fa97e",
   "metadata": {},
   "source": [
    "**Key Insights**\n",
    "1. Players Age Distribution: The majority of players fall within the age range of 22 to 28, indicating that peak performance years occur in this period.\n",
    "2. Distribution of Matches Played: There is a high concentration of players with very few matches played, suggesting a large number of bench or rotational players.\n",
    "3. Count of Positions: Defenders (DF) are the most common position, followed by midfielders (MF), while goalkeepers (GK) and hybrid positions are less frequent."
   ]
  },
  {
   "cell_type": "code",
   "execution_count": 63,
   "id": "ddda2144-7118-4b1c-bc83-48c4c23f06c7",
   "metadata": {},
   "outputs": [
    {
     "data": {
      "image/png": "[encoded data removed]",
      "text/plain": [
       "<Figure size 1800x600 with 2 Axes>"
      ]
     },
     "metadata": {},
     "output_type": "display_data"
    }
   ],
   "source": [
    "fig, axes = plt.subplots(1, 2, figsize=(18, 6))\n",
    "\n",
    "# Age vs MP\n",
    "sns.barplot(data=data, x='Age', y='MP', ax=axes[0])\n",
    "axes[0].set_title('Age vs MP')\n",
    "axes[0].set_xlabel('Players Age')\n",
    "axes[0].set_ylabel('Matches Played')\n",
    "\n",
    "# Age vs Starts\n",
    "sns.barplot(data=data, x='Age', y='Starts', ax=axes[1])\n",
    "axes[1].set_title('Age vs Starts')\n",
    "axes[1].set_xlabel('Players Age')\n",
    "axes[1].set_ylabel('Games Started')  \n",
    "\n",
    "plt.tight_layout()\n",
    "plt.show()"
   ]
  },
  {
   "cell_type": "code",
   "execution_count": 83,
   "id": "5470864a-b83e-4cb8-840c-e7429ff6306f",
   "metadata": {},
   "outputs": [
    {
     "data": {
      "image/png": "[encoded data removed]",
      "text/plain": [
       "<Figure size 640x480 with 1 Axes>"
      ]
     },
     "metadata": {},
     "output_type": "display_data"
    }
   ],
   "source": [
    "# Average age of players from each league \n",
    "x = data.groupby('Comp',as_index=False)['Age'].mean()\n",
    "ax = sns.barplot(data=x, x='Comp',y='Age',hue='Comp')\n",
    "ax.set_title('Average age of player from each league')\n",
    "\n",
    "for bar in ax.containers:\n",
    "    ax.bar_label(bar)"
   ]
  },
  {
   "cell_type": "markdown",
   "id": "0b50684f-60ce-4d14-9e6f-924c9e8f0b76",
   "metadata": {},
   "source": [
    "The average age of player who plays on top 5 league are between 24 and 26"
   ]
  },
  {
   "cell_type": "code",
   "execution_count": 85,
   "id": "e2ecaae6-6485-4321-98d7-cc1968f9516a",
   "metadata": {},
   "outputs": [
    {
     "data": {
      "image/png": "[encoded data removed]",
      "text/plain": [
       "<Figure size 640x480 with 1 Axes>"
      ]
     },
     "metadata": {},
     "output_type": "display_data"
    }
   ],
   "source": [
    "# Average age of players playing different position\n",
    "x = data.groupby('Pos',as_index=False)['Age'].mean()\n",
    "ax = sns.barplot(data=x, x='Pos',y='Age',hue='Pos')\n",
    "ax.set_title('Average age of player playing different position')\n",
    "\n",
    "for bar in ax.containers:\n",
    "    ax.bar_label(bar)"
   ]
  },
  {
   "cell_type": "markdown",
   "id": "6d8152d0-c7f7-471c-a53d-6c6edc2641ca",
   "metadata": {},
   "source": [
    "Goalkeepers (GK) tend to be the oldest on average (28.69 years), while forward-midfield hybrids (FW MF) and defender-forwards (DF FW) have the youngest average ages, indicating that experience plays a more significant role in goalkeeping compared to other positions."
   ]
  },
  {
   "cell_type": "code",
   "execution_count": 93,
   "id": "2136acb3-2c99-47d8-b6fb-1c0dc2c4b6f4",
   "metadata": {},
   "outputs": [
    {
     "name": "stdout",
     "output_type": "stream",
     "text": [
      "Top 10 Players by Matches Played:\n",
      "                 Player    Pos  MP\n",
      "1984        Pedro Porro     DF  24\n",
      "1527  Emiliano Martínez     GK  24\n",
      "1034         Lewis Hall     DF  24\n",
      "1127     Gustav Isaksen     FW  24\n",
      "1563  Noussair Mazraoui     DF  24\n",
      "1023     Erling Haaland     FW  24\n",
      "2285         Simon Sohm     MF  24\n",
      "1313    Nikola Krstović     FW  24\n",
      "603    Mikkel Damsgaard  FW MF  24\n",
      "56             Ola Aina     DF  24\n",
      "\n",
      "Top 10 Players by Games Started:\n",
      "                  Player Pos  Starts\n",
      "2625      Gabriele Zappa  DF      24\n",
      "1255          Max Kilman  DF      24\n",
      "1439  Sebastiano Luperto  DF      24\n",
      "2608      Illia Zabarnyi  DF      24\n",
      "118             Angeliño  DF      24\n",
      "2027          David Raya  GK      24\n",
      "1371          Bernd Leno  GK      24\n",
      "807    Wladimiro Falcone  GK      24\n",
      "2046       Samuele Ricci  MF      24\n",
      "1313     Nikola Krstović  FW      24\n"
     ]
    }
   ],
   "source": [
    "top_players_mp = data[['Player','Pos','MP']].sort_values(by='MP', ascending=False).head(10)\n",
    "top_players_starts = data[['Player','Pos' ,'Starts']].sort_values(by='Starts', ascending=False).head(10)\n",
    "\n",
    "print(\"Top 10 Players by Matches Played:\")\n",
    "print(top_players_mp)\n",
    "\n",
    "print(\"\\nTop 10 Players by Games Started:\")\n",
    "print(top_players_starts)"
   ]
  },
  {
   "cell_type": "code",
   "execution_count": null,
   "id": "3733f2f8-f51f-417b-91a7-05104ed01b06",
   "metadata": {},
   "outputs": [],
   "source": []
  },
  {
   "cell_type": "code",
   "execution_count": null,
   "id": "ad2c7994-cb76-4868-afb9-ab2cbbb0b764",
   "metadata": {},
   "outputs": [],
   "source": []
  },
  {
   "cell_type": "code",
   "execution_count": null,
   "id": "cc456e61-463c-438c-926f-9252b8c9f8ff",
   "metadata": {},
   "outputs": [],
   "source": []
  },
  {
   "cell_type": "code",
   "execution_count": null,
   "id": "c89d15df-3aa3-471b-ab93-f8879bb3657f",
   "metadata": {},
   "outputs": [],
   "source": []
  },
  {
   "cell_type": "code",
   "execution_count": null,
   "id": "7a35e3a2-e657-42ac-bfd3-3b57354e759e",
   "metadata": {},
   "outputs": [],
   "source": []
  }
 ],
 "metadata": {
  "kernelspec": {
   "display_name": "Python 3 (ipykernel)",
   "language": "python",
   "name": "python3"
  },
  "language_info": {
   "codemirror_mode": {
    "name": "ipython",
    "version": 3
   },
   "file_extension": ".py",
   "mimetype": "text/x-python",
   "name": "python",
   "nbconvert_exporter": "python",
   "pygments_lexer": "ipython3",
   "version": "3.12.4"
  }
 },
 "nbformat": 4,
 "nbformat_minor": 5
}
